{
 "cells": [
  {
   "cell_type": "markdown",
   "id": "0a3ec151",
   "metadata": {},
   "source": [
    "# tes\n"
   ]
  },
  {
   "cell_type": "markdown",
   "id": "90caf238",
   "metadata": {},
   "source": []
  }
 ],
 "metadata": {
  "language_info": {
   "name": "python"
  }
 },
 "nbformat": 4,
 "nbformat_minor": 5
}
