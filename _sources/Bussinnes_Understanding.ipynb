{
  "nbformat": 4,
  "nbformat_minor": 0,
  "metadata": {
    "colab": {
      "provenance": []
    },
    "kernelspec": {
      "name": "python3",
      "display_name": "Python 3"
    },
    "language_info": {
      "name": "python"
    }
  },
  "cells": [
    {
      "cell_type": "markdown",
      "source": [
        "# **Memahami Bisnis**"
      ],
      "metadata": {
        "id": "hWC1_QM2FLZl"
      }
    },
    {
      "cell_type": "markdown",
      "source": [
        "## **Business Understanding (Pemahaman Bisnis)**\n",
        "\n",
        "Business Understanding adalah tahap awal dalam proses analisis data atau data mining yang berfokus pada memahami tujuan bisnis, kebutuhan, dan permasalahan yang ingin diselesaikan sebelum mulai mengolah data.\n",
        "\n",
        "Intinya, pada tahap ini kita menyelaraskan analisis data dengan konteks bisnis, agar solusi yang dibuat benar-benar memberikan nilai dan manfaat nyata, bukan sekadar hasil teknis. Dalam dataset iris kita bertujuan:\n",
        "\n",
        "1. Klasifikasi Produk Botani/Hortikultura\n",
        "\n",
        "    - Perusahaan bibit atau penelitian botani bisa mengklasifikasikan spesies bunga berdasarkan ukuran fisik (sepal & petal).\n",
        "\n",
        "    - Tujuannya: menghindari kesalahan identifikasi spesies (misalnya setosa vs versicolor).\n",
        "\n",
        "2. Otomatisasi Identifikasi Tanaman\n",
        "\n",
        "    - Aplikasi mobile atau sistem AI untuk petani/peneliti bisa mengenali spesies bunga hanya dengan input ukuran kelopak/daun.\n",
        "\n",
        "    - Ini membantu dalam riset atau pertanian skala besar.\n",
        "\n",
        "3. Efisiensi dalam Penelitian Biologi\n",
        "\n",
        "    - Peneliti tidak perlu manual mengidentifikasi bunga satu per satu, tapi bisa menggunakan model klasifikasi otomatis.\n",
        "\n",
        "    - Tujuannya: mempercepat proses penelitian."
      ],
      "metadata": {
        "id": "N6AK7bf5D3BM"
      }
    },
    {
      "cell_type": "markdown",
      "source": [
        "### **Manfaat Bussines Understanding**\n",
        "\n",
        "*   Membantu perusahaan mencapai tujuannya\n",
        "\n",
        "*   Membantu memenuhi kepuasan pengguna\n",
        "\n",
        "*   Keputusan berdasarkan data (key business questions)\n"
      ],
      "metadata": {
        "id": "2I0Q_tJREAxs"
      }
    }
  ]
}